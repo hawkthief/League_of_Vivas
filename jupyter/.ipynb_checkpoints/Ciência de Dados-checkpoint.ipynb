{
 "cells": [
  {
   "cell_type": "markdown",
   "metadata": {},
   "source": [
    "# Trabalho Ciência de dados"
   ]
  },
  {
   "cell_type": "markdown",
   "metadata": {},
   "source": [
    "<h4>Grupo:</h4>\n",
    "<p>\n",
    "    <br>Christopher Martins\n",
    "    <br>Daniel Lopes\n",
    "    <br>Douglas Gonçalves Sales\n",
    "</p>"
   ]
  },
  {
   "cell_type": "markdown",
   "metadata": {},
   "source": [
    "# Sobre a Linguagem\n",
    "\n",
    " O Python é uma linguagem interpretada de alto nível e foi escolhida pelo mérito acumulado ao longo de 28 anos de desenvolvimento.\n",
    "\n",
    "<h4><strong>Facilidade de Aprendizado e de Uso:</strong></h4>\n",
    "    <br>Python é uma linguagem de alto nível e de fácil aprendizado. Com isso, podemos começar a analisar os dados sem perder tempo descobrindo particularides da linguagem. De acordo com Stackoverflow, de 2018, o Python é a linguagem de programação mais popular do mundo, e é considerada uma linguagem para iniciantes, onde qualquer pessoa que possua um conhecimento básico de programação consegue utiliza-la.   \n",
    "    \n",
    "<h4><strong>Grande Comunidade:</strong></h4>\n",
    "    <br>A linguagem é amplamente utilizada para ciência de dados, e possui uma comunidade expecialista e colaborativa. O problema que um utilizador novato de Python vivencia, provavelmente já foi resolvido por um outro usuário mais experiente.  \n",
    "    \n",
    "<h4><strong>Grande Número de Bibliotecas e Frameworks:</strong></h4> \n",
    "    <br>A linguagem Python possui uma enorme variablidade de bibliotecas, desde a mais básicas como expressões regulares até inteligência artificial e aprendizado ao homem máquina, conexões HTTP seguras, processamento de XML e HTML, bancos de dados, net scraping, etc.  \n",
    "\n",
    "<h4><strong>Atualizada Constantemente:</strong></h4>\n",
    "    <br>Python é uma linguagem em desenvolvimento, constantemente atualizada. Muitos dos problemas vivenciados a pouco tempo atrás já não existem mais, e os problemas que existem hoje podem não existirão mais daqui a algum tempo.\n",
    "\n",
    "<h4><strong>Popularidade no Mercado:</strong></h4>\n",
    "   <br>Desde seu lançamento em 1991, Python têm evoluido para se tornar uma das linguagens de programação mais dinâmicas e populares no mercado visto que é extremamente versátil. eSeu uso se extende desde análise de dados até aplicações web e aprendizagem de máquina.\n",
    "       "
   ]
  },
  {
   "cell_type": "markdown",
   "metadata": {},
   "source": [
    "# Dataset"
   ]
  },
  {
   "cell_type": "markdown",
   "metadata": {},
   "source": [
    "# Pandas e NumPy\n",
    "\n",
    "Duas das bibliotecas mais usadas para análise de dados são o Pandas e o NumPy, de acordo com datascienceacademy. Ambos serão utilizados neste trabalho.\n",
    "Pandas é uma biblioteca Python para análises de dados que, de acordo com a documentação oficial, é de alta performance e de fácil utilização. Entre suas funcionalidades a mais comum é a de importação de arquivos CSV através do comando pandas.read_csv() que gera um arquivo do tipo \"DataFrame\", que pode então ser análisado e editado.\n"
   ]
  },
  {
   "cell_type": "markdown",
   "metadata": {},
   "source": [
    "Arquivos no Dataset:\n",
    "\n",
    "1- Columns.cvs\n",
    "Lista e descreve as Colunas do arquivo League of Legends.csv\n",
    "\n",
    "2- bans.csv\n",
    "Lista os nomes dos campeões que foram banidos em cada partida, em qual ordem (ban_1~ban_5) e se foram escolhidos pelo time azul ou vermelho (Team).\n",
    "\n",
    "3- gold.csv\n",
    "Estatísticas de recolhimento de ouro de cada time (Type) ao longo do tempo (min_1 ~ min_95).\n",
    "\n",
    "4- kills.csv\n",
    "Lista dos jogadores que mataram, foram mortos ou deram assistência (Team, Killer, Victim, Assist_1 ~ Assist_4), em que posição do mapa (x_pos, y_pos) e em que tempo do jogo isso aconteceu (Time).\n",
    "\n",
    "5- LeagueofLegends.csv \n",
    "Lista qual o tipo do jogo e campeonato e em qual ano, em qual temporada (League, Year, Season, Type) , as equipes que participaram (TeamTags), o resultado da partida (Results). A duração da partida (gamelenght). Demonstra a diferença em ouro entre as equipes, as mortes dos personagens, quais e quando os objetivos foram alcançados. Os jogos ainda possuem um link para o site do jogo, onde são listadas ainda mais informações sobre a partida.\n",
    "\n",
    "6- matchinfo.csv\n",
    "Contém Informações reduntantes (League, Year, Season, Type) e também sobre os jogadores e campeões escolhidos para cada time (28 Colunas).\n",
    "\n",
    "7- monsters.csv\n",
    "Lista de quando (Time) o time Vermelho ou Azu (Team)l derrotaram o Dragão ou o Barão nashor (Type).\n",
    "\n",
    "8- structures.csv\n",
    "Lista de estruturas destruídas por cada time (Team, Lane, Type) em cada momento do jogo(Time).\n"
   ]
  },
  {
   "cell_type": "markdown",
   "metadata": {},
   "source": [
    "<h4><strong>Arquivos do Dataset</strong></h4>"
   ]
  },
  {
   "cell_type": "code",
   "execution_count": 3,
   "metadata": {},
   "outputs": [
    {
     "data": {
      "text/plain": [
       "['structures.csv', 'matchinfo.csv', '_columns.csv', 'bans.csv', 'monsters.csv']"
      ]
     },
     "execution_count": 3,
     "metadata": {},
     "output_type": "execute_result"
    }
   ],
   "source": [
    "import getpass, os\n",
    "\n",
    "user = getpass.getuser()\n",
    "os.listdir(\"/home/\" + str(user) + \"/projeto/League_of_Vivas/datasets/\")"
   ]
  },
  {
   "cell_type": "markdown",
   "metadata": {},
   "source": [
    "<h4><strong>Importação</strong></h4>"
   ]
  },
  {
   "cell_type": "code",
   "execution_count": 6,
   "metadata": {},
   "outputs": [
    {
     "data": {
      "text/html": [
       "<div>\n",
       "<style scoped>\n",
       "    .dataframe tbody tr th:only-of-type {\n",
       "        vertical-align: middle;\n",
       "    }\n",
       "\n",
       "    .dataframe tbody tr th {\n",
       "        vertical-align: top;\n",
       "    }\n",
       "\n",
       "    .dataframe thead th {\n",
       "        text-align: right;\n",
       "    }\n",
       "</style>\n",
       "<table border=\"1\" class=\"dataframe\">\n",
       "  <thead>\n",
       "    <tr style=\"text-align: right;\">\n",
       "      <th></th>\n",
       "      <th>Address</th>\n",
       "      <th>Team</th>\n",
       "      <th>ban_1</th>\n",
       "      <th>ban_2</th>\n",
       "      <th>ban_3</th>\n",
       "      <th>ban_4</th>\n",
       "      <th>ban_5</th>\n",
       "    </tr>\n",
       "  </thead>\n",
       "  <tbody>\n",
       "    <tr>\n",
       "      <td>0</td>\n",
       "      <td>http://matchhistory.na.leagueoflegends.com/en/...</td>\n",
       "      <td>blueBans</td>\n",
       "      <td>Rumble</td>\n",
       "      <td>Kassadin</td>\n",
       "      <td>Lissandra</td>\n",
       "      <td>NaN</td>\n",
       "      <td>NaN</td>\n",
       "    </tr>\n",
       "    <tr>\n",
       "      <td>1</td>\n",
       "      <td>http://matchhistory.na.leagueoflegends.com/en/...</td>\n",
       "      <td>blueBans</td>\n",
       "      <td>Kassadin</td>\n",
       "      <td>Sivir</td>\n",
       "      <td>Lissandra</td>\n",
       "      <td>NaN</td>\n",
       "      <td>NaN</td>\n",
       "    </tr>\n",
       "    <tr>\n",
       "      <td>2</td>\n",
       "      <td>http://matchhistory.na.leagueoflegends.com/en/...</td>\n",
       "      <td>blueBans</td>\n",
       "      <td>JarvanIV</td>\n",
       "      <td>Lissandra</td>\n",
       "      <td>Kassadin</td>\n",
       "      <td>NaN</td>\n",
       "      <td>NaN</td>\n",
       "    </tr>\n",
       "    <tr>\n",
       "      <td>3</td>\n",
       "      <td>http://matchhistory.na.leagueoflegends.com/en/...</td>\n",
       "      <td>blueBans</td>\n",
       "      <td>Annie</td>\n",
       "      <td>Lissandra</td>\n",
       "      <td>Kassadin</td>\n",
       "      <td>NaN</td>\n",
       "      <td>NaN</td>\n",
       "    </tr>\n",
       "    <tr>\n",
       "      <td>4</td>\n",
       "      <td>http://matchhistory.na.leagueoflegends.com/en/...</td>\n",
       "      <td>blueBans</td>\n",
       "      <td>Irelia</td>\n",
       "      <td>Pantheon</td>\n",
       "      <td>Kassadin</td>\n",
       "      <td>NaN</td>\n",
       "      <td>NaN</td>\n",
       "    </tr>\n",
       "    <tr>\n",
       "      <td>...</td>\n",
       "      <td>...</td>\n",
       "      <td>...</td>\n",
       "      <td>...</td>\n",
       "      <td>...</td>\n",
       "      <td>...</td>\n",
       "      <td>...</td>\n",
       "      <td>...</td>\n",
       "    </tr>\n",
       "    <tr>\n",
       "      <td>15235</td>\n",
       "      <td>https://matchhistory.euw.leagueoflegends.com/e...</td>\n",
       "      <td>redBans</td>\n",
       "      <td>Ornn</td>\n",
       "      <td>Kalista</td>\n",
       "      <td>Ryze</td>\n",
       "      <td>Alistar</td>\n",
       "      <td>Shen</td>\n",
       "    </tr>\n",
       "    <tr>\n",
       "      <td>15236</td>\n",
       "      <td>https://matchhistory.euw.leagueoflegends.com/e...</td>\n",
       "      <td>redBans</td>\n",
       "      <td>Zoe</td>\n",
       "      <td>KogMaw</td>\n",
       "      <td>JarvanIV</td>\n",
       "      <td>Ornn</td>\n",
       "      <td>Rengar</td>\n",
       "    </tr>\n",
       "    <tr>\n",
       "      <td>15237</td>\n",
       "      <td>https://matchhistory.na.leagueoflegends.com/en...</td>\n",
       "      <td>redBans</td>\n",
       "      <td>Azir</td>\n",
       "      <td>Kalista</td>\n",
       "      <td>Braum</td>\n",
       "      <td>Maokai</td>\n",
       "      <td>Alistar</td>\n",
       "    </tr>\n",
       "    <tr>\n",
       "      <td>15238</td>\n",
       "      <td>https://matchhistory.na.leagueoflegends.com/en...</td>\n",
       "      <td>redBans</td>\n",
       "      <td>Kalista</td>\n",
       "      <td>Galio</td>\n",
       "      <td>Gnar</td>\n",
       "      <td>Jayce</td>\n",
       "      <td>Sejuani</td>\n",
       "    </tr>\n",
       "    <tr>\n",
       "      <td>15239</td>\n",
       "      <td>https://matchhistory.na.leagueoflegends.com/en...</td>\n",
       "      <td>redBans</td>\n",
       "      <td>KogMaw</td>\n",
       "      <td>Illaoi</td>\n",
       "      <td>Azir</td>\n",
       "      <td>Karma</td>\n",
       "      <td>Sejuani</td>\n",
       "    </tr>\n",
       "  </tbody>\n",
       "</table>\n",
       "<p>15240 rows × 7 columns</p>\n",
       "</div>"
      ],
      "text/plain": [
       "                                                 Address      Team     ban_1  \\\n",
       "0      http://matchhistory.na.leagueoflegends.com/en/...  blueBans    Rumble   \n",
       "1      http://matchhistory.na.leagueoflegends.com/en/...  blueBans  Kassadin   \n",
       "2      http://matchhistory.na.leagueoflegends.com/en/...  blueBans  JarvanIV   \n",
       "3      http://matchhistory.na.leagueoflegends.com/en/...  blueBans     Annie   \n",
       "4      http://matchhistory.na.leagueoflegends.com/en/...  blueBans    Irelia   \n",
       "...                                                  ...       ...       ...   \n",
       "15235  https://matchhistory.euw.leagueoflegends.com/e...   redBans      Ornn   \n",
       "15236  https://matchhistory.euw.leagueoflegends.com/e...   redBans       Zoe   \n",
       "15237  https://matchhistory.na.leagueoflegends.com/en...   redBans      Azir   \n",
       "15238  https://matchhistory.na.leagueoflegends.com/en...   redBans   Kalista   \n",
       "15239  https://matchhistory.na.leagueoflegends.com/en...   redBans    KogMaw   \n",
       "\n",
       "           ban_2      ban_3    ban_4    ban_5  \n",
       "0       Kassadin  Lissandra      NaN      NaN  \n",
       "1          Sivir  Lissandra      NaN      NaN  \n",
       "2      Lissandra   Kassadin      NaN      NaN  \n",
       "3      Lissandra   Kassadin      NaN      NaN  \n",
       "4       Pantheon   Kassadin      NaN      NaN  \n",
       "...          ...        ...      ...      ...  \n",
       "15235    Kalista       Ryze  Alistar     Shen  \n",
       "15236     KogMaw   JarvanIV     Ornn   Rengar  \n",
       "15237    Kalista      Braum   Maokai  Alistar  \n",
       "15238      Galio       Gnar    Jayce  Sejuani  \n",
       "15239     Illaoi       Azir    Karma  Sejuani  \n",
       "\n",
       "[15240 rows x 7 columns]"
      ]
     },
     "execution_count": 6,
     "metadata": {},
     "output_type": "execute_result"
    }
   ],
   "source": [
    "import pandas, requests\n",
    "\n",
    "user = getpass.getuser()\n",
    "arquivos = os.listdir(\"/home/\" + str(user) + \"/projeto/League_of_Vivas/datasets/\")\n",
    "\n",
    "league_of_legends = pandas.read_csv('/home/' + str(user) + \"/projeto/League_of_Vivas/datasets/\" + arquivos[0])\n",
    "structures = pandas.read_csv('/home/' + str(user) + \"/projeto/League_of_Vivas/datasets/\" + arquivos[1])\n",
    "match_info = pandas.read_csv('/home/' + str(user) + \"/projeto/League_of_Vivas/datasets/\" + arquivos[2])\n",
    "kills = pandas.read_csv('/home/' + str(user) + \"/projeto/League_of_Vivas/datasets/\" + arquivos[3])\n",
    "gold = pandas.read_csv('/home/' + str(user) + \"/projeto/League_of_Vivas/datasets/\" + arquivos[4])\n",
    "columns_description = pandas.read_csv('/home/' + str(user) + \"/projeto/League_of_Vivas/datasets/\" + arquivos[5])\n",
    "bans = pandas.read_csv('/home/' + str(user) + \"/projeto/League_of_Vivas/datasets/\" + arquivos[6])\n",
    "monsters = pandas.read_csv('/home/' + str(user) + \"/projeto/League_of_Vivas/datasets/\" + arquivos[7])\n",
    "\n",
    "bans"
   ]
  },
  {
   "cell_type": "code",
   "execution_count": 1,
   "metadata": {},
   "outputs": [
    {
     "ename": "NameError",
     "evalue": "name 'getpass' is not defined",
     "output_type": "error",
     "traceback": [
      "\u001b[0;31m---------------------------------------------------------------------------\u001b[0m",
      "\u001b[0;31mNameError\u001b[0m                                 Traceback (most recent call last)",
      "\u001b[0;32m<ipython-input-1-72c47a173b02>\u001b[0m in \u001b[0;36m<module>\u001b[0;34m\u001b[0m\n\u001b[1;32m      3\u001b[0m \u001b[0;32mimport\u001b[0m \u001b[0mpandas\u001b[0m\u001b[0;34m,\u001b[0m \u001b[0mrequests\u001b[0m\u001b[0;34m\u001b[0m\u001b[0m\n\u001b[1;32m      4\u001b[0m \u001b[0;34m\u001b[0m\u001b[0m\n\u001b[0;32m----> 5\u001b[0;31m \u001b[0muser\u001b[0m \u001b[0;34m=\u001b[0m \u001b[0mgetpass\u001b[0m\u001b[0;34m.\u001b[0m\u001b[0mgetuser\u001b[0m\u001b[0;34m(\u001b[0m\u001b[0;34m)\u001b[0m\u001b[0;34m\u001b[0m\u001b[0m\n\u001b[0m\u001b[1;32m      6\u001b[0m \u001b[0marquivos\u001b[0m \u001b[0;34m=\u001b[0m \u001b[0mos\u001b[0m\u001b[0;34m.\u001b[0m\u001b[0mlistdir\u001b[0m\u001b[0;34m(\u001b[0m\u001b[0;34m\"/home/\"\u001b[0m \u001b[0;34m+\u001b[0m \u001b[0mstr\u001b[0m\u001b[0;34m(\u001b[0m\u001b[0muser\u001b[0m\u001b[0;34m)\u001b[0m \u001b[0;34m+\u001b[0m \u001b[0;34m\"/datasets\"\u001b[0m\u001b[0;34m)\u001b[0m\u001b[0;34m\u001b[0m\u001b[0m\n\u001b[1;32m      7\u001b[0m \u001b[0;34m\u001b[0m\u001b[0m\n",
      "\u001b[0;31mNameError\u001b[0m: name 'getpass' is not defined"
     ]
    }
   ],
   "source": [
    "#importação pro pc do hawk pq nada faz sentido\n",
    "\n",
    "import pandas, requests\n",
    "\n",
    "user = getpass.getuser()\n",
    "arquivos = os.listdir(\"/home/\" + str(user) + \"/datasets\")\n",
    "\n",
    "league_of_legends = pandas.read_csv('/home/' + str(user) + '/datasets/' + arquivos[4])\n",
    "structures = pandas.read_csv('/home/' + str(user) + '/datasets/' + arquivos[6])\n",
    "match_info = pandas.read_csv('/home/' + str(user) + '/datasets/' + arquivos[2])\n",
    "kills = pandas.read_csv('/home/' + str(user) + '/datasets/' + arquivos[3])\n",
    "gold = pandas.read_csv('/home/' + str(user) + '/datasets/' + arquivos[5])\n",
    "columns_description = pandas.read_csv('/home/' + str(user) + '/datasets/' + arquivos[1])\n",
    "bans = pandas.read_csv('/home/' + str(user) + '/datasets/' + arquivos[0])\n",
    "monsters = pandas.read_csv('/home/' + str(user) + '/datasets/' + arquivos[7])\n",
    "\n",
    "match_info"
   ]
  },
  {
   "cell_type": "markdown",
   "metadata": {},
   "source": [
    "<h4><strong>Limpeza dos Dados</strong></h4>"
   ]
  },
  {
   "cell_type": "code",
   "execution_count": 7,
   "metadata": {},
   "outputs": [],
   "source": [
    "league_of_legends = league_of_legends.dropna(subset=['blueTeamTag'])\n",
    "structures = structures.dropna(subset=['Time'])\n",
    "match_info = match_info.dropna(subset=['blueTeamTag'])\n",
    "kills = kills.dropna(subset=['Time'])"
   ]
  },
  {
   "cell_type": "markdown",
   "metadata": {},
   "source": [
    "<h4><strong>Filtragem de Dados</strong></h4>"
   ]
  },
  {
   "cell_type": "code",
   "execution_count": 8,
   "metadata": {},
   "outputs": [
    {
     "name": "stdout",
     "output_type": "stream",
     "text": [
      "      League  Year  Season  Type_x blueTeamTag  bResult  rResult redTeamTag  \\\n",
      "13     NALCS  2015  Spring  Season         CST        0        1        DIG   \n",
      "39     NALCS  2015  Spring  Season         TIP        0        1         TL   \n",
      "65     NALCS  2015  Spring  Season         DIG        0        1        TIP   \n",
      "104    NALCS  2015  Spring  Season          C9        0        1         GV   \n",
      "169    NALCS  2015  Spring  Season         TIP        0        1        CLG   \n",
      "...      ...   ...     ...     ...         ...      ...      ...        ...   \n",
      "98488    TCL  2018  Spring  Season         AUR        0        1        RBE   \n",
      "98501    TCL  2018  Spring  Season          YC        0        1        SUP   \n",
      "98514    TCL  2018  Spring  Season         GAL        0        1         DP   \n",
      "98527    OPL  2018  Spring  Season         SIN        0        1         DW   \n",
      "98553    OPL  2018  Spring  Season         TTC        0        1        LGC   \n",
      "\n",
      "       gamelength   blueTop  ... min_86 min_87 min_88 min_89 min_90 min_91  \\\n",
      "13             38      Cris  ...    NaN    NaN    NaN    NaN    NaN    NaN   \n",
      "39             41      Rhux  ...    NaN    NaN    NaN    NaN    NaN    NaN   \n",
      "65             24     Gamsu  ...    NaN    NaN    NaN    NaN    NaN    NaN   \n",
      "104            41     Balls  ...    NaN    NaN    NaN    NaN    NaN    NaN   \n",
      "169            31    Impact  ...    NaN    NaN    NaN    NaN    NaN    NaN   \n",
      "...           ...       ...  ...    ...    ...    ...    ...    ...    ...   \n",
      "98488          36     Panky  ...    NaN    NaN    NaN    NaN    NaN    NaN   \n",
      "98501          34    Elwind  ...    NaN    NaN    NaN    NaN    NaN    NaN   \n",
      "98514          39      Rare  ...    NaN    NaN    NaN    NaN    NaN    NaN   \n",
      "98527          24  Praedyth  ...    NaN    NaN    NaN    NaN    NaN    NaN   \n",
      "98553          42   Papryze  ...    NaN    NaN    NaN    NaN    NaN    NaN   \n",
      "\n",
      "      min_92 min_93 min_94 min_95  \n",
      "13       NaN    NaN    NaN    NaN  \n",
      "39       NaN    NaN    NaN    NaN  \n",
      "65       NaN    NaN    NaN    NaN  \n",
      "104      NaN    NaN    NaN    NaN  \n",
      "169      NaN    NaN    NaN    NaN  \n",
      "...      ...    ...    ...    ...  \n",
      "98488    NaN    NaN    NaN    NaN  \n",
      "98501    NaN    NaN    NaN    NaN  \n",
      "98514    NaN    NaN    NaN    NaN  \n",
      "98527    NaN    NaN    NaN    NaN  \n",
      "98553    NaN    NaN    NaN    NaN  \n",
      "\n",
      "[3455 rows x 126 columns]\n"
     ]
    }
   ],
   "source": [
    "gold_partida = pandas.merge(match_info, gold, on='Address')\n",
    "\n",
    "gold_partida_f = gold_partida.Type_y == \"golddiff\"\n",
    "gold_diff=gold_partida[gold_partida_f]\n",
    "\n",
    "gold_blue_f = gold_diff.bResult == 1\n",
    "gold_red_f = gold_diff.rResult == 1\n",
    "\n",
    "gold_blue = gold_diff[gold_blue_f]\n",
    "gold_red = gold_diff[gold_red_f]\n",
    "\n",
    "league_nalcs = league_of_legends.League == \"NALCS\"\n",
    "league_btag =  league_of_legends.blueTeamTag == \"TSM\"\n",
    "league_nalcs_btag = league_nalcs & league_btag\n",
    "\n",
    "\n",
    "#for col in gold_partida.columns: \n",
    "#    print(col) \n",
    "#gold_partida\n",
    "print(gold_red)\n",
    "#print(league_of_legends[league_nalcs_btag][[\"League\", \"blueTeamTag\"]])"
   ]
  },
  {
   "cell_type": "markdown",
   "metadata": {},
   "source": [
    "<h4><strong>Análise Exploratória dos Dados</strong></h4>"
   ]
  },
  {
   "cell_type": "markdown",
   "metadata": {},
   "source": [
    "<h5>Histograma</h5>\n",
    "\n",
    "Média - Desvio Padrão\n",
    "Desvio ++ = maior largura da curva\n",
    "Desvio -- = menor largura da curva\n"
   ]
  },
  {
   "cell_type": "code",
   "execution_count": 9,
   "metadata": {},
   "outputs": [
    {
     "data": {
      "text/plain": [
       "<Figure size 640x480 with 1 Axes>"
      ]
     },
     "metadata": {},
     "output_type": "display_data"
    },
    {
     "data": {
      "text/plain": [
       "<Figure size 640x480 with 1 Axes>"
      ]
     },
     "metadata": {},
     "output_type": "display_data"
    },
    {
     "data": {
      "text/plain": [
       "<Figure size 640x480 with 1 Axes>"
      ]
     },
     "metadata": {},
     "output_type": "display_data"
    },
    {
     "data": {
      "text/plain": [
       "<Figure size 640x480 with 1 Axes>"
      ]
     },
     "metadata": {},
     "output_type": "display_data"
    }
   ],
   "source": [
    "import matplotlib.pyplot as plt\n",
    " \n",
    "plt.hist(match_info.gamelength, color= \"blue\", histtype=\"bar\")\n",
    "plt.title(\"Duração da Partida\")\n",
    "plt.xlabel(\"Duração [min]\")\n",
    "plt.ylabel(\"Ocorrências\")\n",
    "plt.savefig(\"duracao_partida.png\",dpi=300)\n",
    "plt.show()\n",
    "\n",
    "plt.hist(structures.Time, color= \"yellow\", histtype=\"bar\")\n",
    "plt.title(\"Estruturas\")\n",
    "plt.xlabel(\"Minuto\")\n",
    "plt.ylabel(\"Ocorrências\")\n",
    "plt.savefig(\"estruturas_min.png\",dpi=300)\n",
    "plt.show()\n",
    "\n",
    "plt.hist(kills.Time, color= \"red\", histtype=\"bar\")\n",
    "plt.title(\"Kills\")\n",
    "plt.xlabel(\"Minuto\")\n",
    "plt.ylabel(\"Ocorrências\")\n",
    "plt.savefig(\"kills_min.png\",dpi=300)\n",
    "plt.show()\n",
    "\n",
    "plt.hist(monsters.Time, color= \"green\", histtype=\"bar\")\n",
    "plt.title(\"Monsters\")\n",
    "plt.xlabel(\"Minuto\")\n",
    "plt.ylabel(\"Ocorrências\")\n",
    "plt.savefig(\"monsters_min.png\",dpi=300)\n",
    "plt.show()"
   ]
  },
  {
   "cell_type": "code",
   "execution_count": 12,
   "metadata": {},
   "outputs": [
    {
     "data": {
      "image/png": "[encoded data removed]",
      "text/plain": [
       "<Figure size 432x288 with 1 Axes>"
      ]
     },
     "metadata": {
      "needs_background": "light"
     },
     "output_type": "display_data"
    }
   ],
   "source": [
    "n_leagues = league_of_legends['League'].value_counts()\n",
    "n_leagues.plot.bar(title='Número Campeonatos Regionais', legend=None)\n",
    "plt.tight_layout()\n",
    "plt.savefig(\"Regional.png\", dpi=300)\n",
    "plt.show()\n",
    "\n",
    "# n_bans_1 = bans['ban_1'].value_counts()\n",
    "# n_bans_1.plot.bar(title='Bans da Partida', legend=None)\n",
    "# plt.tight_layout()\n",
    "# plt.savefig(\"Bans.png\", dpi=300)\n",
    "# plt.show()\n"
   ]
  },
  {
   "cell_type": "code",
   "execution_count": 19,
   "metadata": {},
   "outputs": [
    {
     "data": {
      "text/plain": [
       "<matplotlib.axes._subplots.AxesSubplot at 0x7fead764ffd0>"
      ]
     },
     "execution_count": 19,
     "metadata": {},
     "output_type": "execute_result"
    },
    {
     "data": {
      "image/png": "[encoded data removed]",
      "text/plain": [
       "<Figure size 432x288 with 1 Axes>"
      ]
     },
     "metadata": {
      "needs_background": "light"
     },
     "output_type": "display_data"
    }
   ],
   "source": [
    "structures.plot.box()"
   ]
  },
  {
   "cell_type": "markdown",
   "metadata": {},
   "source": [
    "<h4><strong>Conclusão</strong></h4>\n",
    "       <br> É possivel integrar o Python com frameworks para Web (como Django ou Flask) e com outras linguagens (como Javascript), o que aumenta as possibilidades de desenvolvimento. Além disso, existem diversas bibliotecas disponíveis para análise de dados. Este pacote inclui diversas utilidades, entre elas o Pandas, Numpy, Holoviews. Além disso, por ser mais antigo, Python é mais robusto e menos propenso a mudanças drásticas. \n",
    "    <br>  Python é uma linguagem de propósito geral bem estabelecida, ao contrário do R que é uma linguagem mais especializada e do Júlia que é uma linguagem relativamente nova, sendo assim a experiência adiquirida terá um maior potêncial de uso em aplicações futuras, seja em outros trabalhos ou no mercado.\n",
    "    <br> Apesar da deficiência do Python para programação paralela, acreditamos que a facilidade de codificar usando a linguagem trará uma vantagem mais significativa do que tempo de execução e mais liberdade para focar na análise dos dados, sem se preocupar com aprender as nuances de uma nova linguagem.\n",
    "    <br> Existem também uma biblioteca para rodar códico R em python caso alguma funcionalidade específica do R seja necessária."
   ]
  },
  {
   "cell_type": "markdown",
   "metadata": {},
   "source": [
    "# Referências:\n",
    "\n",
    "<h4>League of Legends - Competitive Matches, 2015 to 2018</h4>\n",
    "(https://www.kaggle.com/chuckephron/leagueoflegends)\n",
    "\n",
    "<br>https://www.python.org\n",
    "<br>Python for Data Analysis: Data Wrangling with Pandas, NumPy, and IPython Por Wes McKinney\n",
    "<br>https://books.google.com.br/books?hl=pt-BR&lr=&id=v3n4_AK8vu0C&oi=fnd&pg=PR3&dq=python+for+data+analysis&ots=rgJL4hyrqx&sig=v6onow7Ag9Qs4S11awiGeHLpSd4#v=onepage&q&f=false\n",
    "<br>http://www.cienciaedados.com/por-que-cientistas-de-dados-escolhem-python/\n",
    "<br>https://www.cbtnuggets.com/blog/technology/data/why-data-scientists-love-python    \n",
    "https://hackncast.org/v06-python\n",
    "<br>https://minerandodados.com.br/por-que-o-python-e-a-linguagem-mais-adotada-na-area-de-data-science/\n",
    "<br>Wes McKinney Python for Data Analysis: Data Wrangling with Pandas, NumPy, and IPython (2012)\n",
    "<br>https://cio.com.br/julia-vs-python-qual-e-a-melhor-para-a-ciencia-de-dados/\n",
    "<br>http://datascienceacademy.com.br/blog/top-20-bibliotecas-python-para-data-science/\n"
   ]
  },
  {
   "cell_type": "code",
   "execution_count": 11,
   "metadata": {
    "scrolled": true
   },
   "outputs": [],
   "source": [
    "\n",
    "#url = \"https://...\"\n",
    "#s= requests.get(url).content #Puxa uma url da rede \n",
    "#c= pd.read_csv(io.StringIO(s.decode('utf-8'))) #Puxa um dataset da url\n",
    "\n",
    "#FICO BUNITO MAIS DEU BOSTA\n",
    "#for x in arquivos:\n",
    "#    dataset = pandas.read_csv('/home/' + str(user) + '/Downloads/datasets/' + str(x))\n",
    "#    lista_temp = {\n",
    "#    \n",
    "#        'nome': x,\n",
    "#        'dataset': dataset,\n",
    "#    }\n",
    "#    lista_datasets.append(lista_temp)\n",
    "\n",
    "# print(league_of_legends) \n",
    "# league = league_of_legends[[\"League\", \"bResult\"]] #Dois Colchetes = Selecionar linhas e colunas de um único dataset\n",
    "# print(league)\n",
    "#league_of_legends.loc[0] # Seleciona uma Linha do dataset\n",
    "# league_of_legends.iloc[0] # Seleciona uma Linha do dataset\n",
    "# league_of_legends.loc[[0]] # Seleciona uma Linha do dataset\n",
    "# league_of_legends.iloc[[0]] # Seleciona uma Linha do dataset\n",
    "\n",
    "# league_of_legends_nalcs_btag = league\n",
    "# league_nalcs_2015 = league_nalcs and league_2015\n",
    "# # print(league_nalcs)\n",
    "# print(league_of_legends[league_nalcs_2015])"
   ]
  },
  {
   "cell_type": "code",
   "execution_count": null,
   "metadata": {},
   "outputs": [],
   "source": []
  },
  {
   "cell_type": "code",
   "execution_count": null,
   "metadata": {},
   "outputs": [],
   "source": []
  }
 ],
 "metadata": {
  "kernelspec": {
   "display_name": "Python 3",
   "language": "python",
   "name": "python3"
  },
  "language_info": {
   "codemirror_mode": {
    "name": "ipython",
    "version": 3
   },
   "file_extension": ".py",
   "mimetype": "text/x-python",
   "name": "python",
   "nbconvert_exporter": "python",
   "pygments_lexer": "ipython3",
   "version": "3.5.3"
  }
 },
 "nbformat": 4,
 "nbformat_minor": 2
}
